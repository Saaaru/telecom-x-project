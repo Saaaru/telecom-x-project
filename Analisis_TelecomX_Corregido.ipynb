{
 "cells": [
  {
   "cell_type": "markdown",
   "metadata": {},
   "source": [
    "# Taller de Análisis de Datos: Predicción de Fuga de Clientes (Churn) en TelecomX\n"
   ]
  },
  {
   "cell_type": "markdown",
   "metadata": {},
   "source": [
    "# ⚙️ 1. Configuración Inicial"
   ]
  },
  {
   "cell_type": "code",
   "execution_count": null,
   "metadata": {},
   "outputs": [],
   "source": [
    "import requests\n",
    "import pandas as pd\n",
    "import matplotlib.pyplot as plt\n",
    "import seaborn as sns\n",
    "\n",
    "sns.set_style('whitegrid')\n",
    "plt.rcParams['figure.figsize'] = (10, 6)"
   ]
  },
  {
   "cell_type": "markdown",
   "metadata": {},
   "source": [
    "# 📌 2. Extracción"
   ]
  },
  {
   "cell_type": "code",
   "execution_count": 2,
   "metadata": {},
   "outputs": [
    {
     "name": "stdout",
     "output_type": "stream",
     "text": [
      "Datos extraídos correctamente.\n"
     ]
    }
   ],
   "source": [
    "# Extraemos los datos desde la fuente original (JSON anidado)\n",
    "url = \"https://raw.githubusercontent.com/alura-cursos/challenge2-data-science-LATAM/refs/heads/main/TelecomX_Data.json\"\n",
    "response = requests.get(url)\n",
    "data = response.json()\n",
    "print(\"Datos extraídos correctamente.\")"
   ]
  },
  {
   "cell_type": "markdown",
   "metadata": {},
   "source": [
    "# 🔧 3. Transformación"
   ]
  },
  {
   "cell_type": "code",
   "execution_count": 3,
   "metadata": {},
   "outputs": [
    {
     "name": "stdout",
     "output_type": "stream",
     "text": [
      "Transformación inicial completada. Columnas renombradas y tipos de datos ajustados.\n"
     ]
    },
    {
     "data": {
      "text/html": [
       "<div>\n",
       "<style scoped>\n",
       "    .dataframe tbody tr th:only-of-type {\n",
       "        vertical-align: middle;\n",
       "    }\n",
       "\n",
       "    .dataframe tbody tr th {\n",
       "        vertical-align: top;\n",
       "    }\n",
       "\n",
       "    .dataframe thead th {\n",
       "        text-align: right;\n",
       "    }\n",
       "</style>\n",
       "<table border=\"1\" class=\"dataframe\">\n",
       "  <thead>\n",
       "    <tr style=\"text-align: right;\">\n",
       "      <th></th>\n",
       "      <th>customerID</th>\n",
       "      <th>Churn</th>\n",
       "      <th>gender</th>\n",
       "      <th>SeniorCitizen</th>\n",
       "      <th>Partner</th>\n",
       "      <th>Dependents</th>\n",
       "      <th>tenure</th>\n",
       "      <th>PhoneService</th>\n",
       "      <th>MultipleLines</th>\n",
       "      <th>InternetService</th>\n",
       "      <th>...</th>\n",
       "      <th>OnlineBackup</th>\n",
       "      <th>DeviceProtection</th>\n",
       "      <th>TechSupport</th>\n",
       "      <th>StreamingTV</th>\n",
       "      <th>StreamingMovies</th>\n",
       "      <th>Contract</th>\n",
       "      <th>PaperlessBilling</th>\n",
       "      <th>PaymentMethod</th>\n",
       "      <th>Charges.Monthly</th>\n",
       "      <th>Charges.Total</th>\n",
       "    </tr>\n",
       "  </thead>\n",
       "  <tbody>\n",
       "    <tr>\n",
       "      <th>0</th>\n",
       "      <td>0002-ORFBO</td>\n",
       "      <td>No</td>\n",
       "      <td>Female</td>\n",
       "      <td>No</td>\n",
       "      <td>Yes</td>\n",
       "      <td>Yes</td>\n",
       "      <td>9</td>\n",
       "      <td>Yes</td>\n",
       "      <td>No</td>\n",
       "      <td>DSL</td>\n",
       "      <td>...</td>\n",
       "      <td>Yes</td>\n",
       "      <td>No</td>\n",
       "      <td>Yes</td>\n",
       "      <td>Yes</td>\n",
       "      <td>No</td>\n",
       "      <td>One year</td>\n",
       "      <td>Yes</td>\n",
       "      <td>Mailed check</td>\n",
       "      <td>65.6</td>\n",
       "      <td>593.30</td>\n",
       "    </tr>\n",
       "    <tr>\n",
       "      <th>1</th>\n",
       "      <td>0003-MKNFE</td>\n",
       "      <td>No</td>\n",
       "      <td>Male</td>\n",
       "      <td>No</td>\n",
       "      <td>No</td>\n",
       "      <td>No</td>\n",
       "      <td>9</td>\n",
       "      <td>Yes</td>\n",
       "      <td>Yes</td>\n",
       "      <td>DSL</td>\n",
       "      <td>...</td>\n",
       "      <td>No</td>\n",
       "      <td>No</td>\n",
       "      <td>No</td>\n",
       "      <td>No</td>\n",
       "      <td>Yes</td>\n",
       "      <td>Month-to-month</td>\n",
       "      <td>No</td>\n",
       "      <td>Mailed check</td>\n",
       "      <td>59.9</td>\n",
       "      <td>542.40</td>\n",
       "    </tr>\n",
       "    <tr>\n",
       "      <th>2</th>\n",
       "      <td>0004-TLHLJ</td>\n",
       "      <td>Yes</td>\n",
       "      <td>Male</td>\n",
       "      <td>No</td>\n",
       "      <td>No</td>\n",
       "      <td>No</td>\n",
       "      <td>4</td>\n",
       "      <td>Yes</td>\n",
       "      <td>No</td>\n",
       "      <td>Fiber optic</td>\n",
       "      <td>...</td>\n",
       "      <td>No</td>\n",
       "      <td>Yes</td>\n",
       "      <td>No</td>\n",
       "      <td>No</td>\n",
       "      <td>No</td>\n",
       "      <td>Month-to-month</td>\n",
       "      <td>Yes</td>\n",
       "      <td>Electronic check</td>\n",
       "      <td>73.9</td>\n",
       "      <td>280.85</td>\n",
       "    </tr>\n",
       "    <tr>\n",
       "      <th>3</th>\n",
       "      <td>0011-IGKFF</td>\n",
       "      <td>Yes</td>\n",
       "      <td>Male</td>\n",
       "      <td>Yes</td>\n",
       "      <td>Yes</td>\n",
       "      <td>No</td>\n",
       "      <td>13</td>\n",
       "      <td>Yes</td>\n",
       "      <td>No</td>\n",
       "      <td>Fiber optic</td>\n",
       "      <td>...</td>\n",
       "      <td>Yes</td>\n",
       "      <td>Yes</td>\n",
       "      <td>No</td>\n",
       "      <td>Yes</td>\n",
       "      <td>Yes</td>\n",
       "      <td>Month-to-month</td>\n",
       "      <td>Yes</td>\n",
       "      <td>Electronic check</td>\n",
       "      <td>98.0</td>\n",
       "      <td>1237.85</td>\n",
       "    </tr>\n",
       "    <tr>\n",
       "      <th>4</th>\n",
       "      <td>0013-EXCHZ</td>\n",
       "      <td>Yes</td>\n",
       "      <td>Female</td>\n",
       "      <td>Yes</td>\n",
       "      <td>Yes</td>\n",
       "      <td>No</td>\n",
       "      <td>3</td>\n",
       "      <td>Yes</td>\n",
       "      <td>No</td>\n",
       "      <td>Fiber optic</td>\n",
       "      <td>...</td>\n",
       "      <td>No</td>\n",
       "      <td>No</td>\n",
       "      <td>Yes</td>\n",
       "      <td>Yes</td>\n",
       "      <td>No</td>\n",
       "      <td>Month-to-month</td>\n",
       "      <td>Yes</td>\n",
       "      <td>Mailed check</td>\n",
       "      <td>83.9</td>\n",
       "      <td>267.40</td>\n",
       "    </tr>\n",
       "  </tbody>\n",
       "</table>\n",
       "<p>5 rows × 21 columns</p>\n",
       "</div>"
      ],
      "text/plain": [
       "   customerID Churn  gender SeniorCitizen Partner Dependents  tenure  \\\n",
       "0  0002-ORFBO    No  Female            No     Yes        Yes       9   \n",
       "1  0003-MKNFE    No    Male            No      No         No       9   \n",
       "2  0004-TLHLJ   Yes    Male            No      No         No       4   \n",
       "3  0011-IGKFF   Yes    Male           Yes     Yes         No      13   \n",
       "4  0013-EXCHZ   Yes  Female           Yes     Yes         No       3   \n",
       "\n",
       "  PhoneService MultipleLines InternetService  ... OnlineBackup  \\\n",
       "0          Yes            No             DSL  ...          Yes   \n",
       "1          Yes           Yes             DSL  ...           No   \n",
       "2          Yes            No     Fiber optic  ...           No   \n",
       "3          Yes            No     Fiber optic  ...          Yes   \n",
       "4          Yes            No     Fiber optic  ...           No   \n",
       "\n",
       "  DeviceProtection TechSupport StreamingTV StreamingMovies        Contract  \\\n",
       "0               No         Yes         Yes              No        One year   \n",
       "1               No          No          No             Yes  Month-to-month   \n",
       "2              Yes          No          No              No  Month-to-month   \n",
       "3              Yes          No         Yes             Yes  Month-to-month   \n",
       "4               No         Yes         Yes              No  Month-to-month   \n",
       "\n",
       "  PaperlessBilling     PaymentMethod Charges.Monthly  Charges.Total  \n",
       "0              Yes      Mailed check            65.6         593.30  \n",
       "1               No      Mailed check            59.9         542.40  \n",
       "2              Yes  Electronic check            73.9         280.85  \n",
       "3              Yes  Electronic check            98.0        1237.85  \n",
       "4              Yes      Mailed check            83.9         267.40  \n",
       "\n",
       "[5 rows x 21 columns]"
      ]
     },
     "execution_count": 3,
     "metadata": {},
     "output_type": "execute_result"
    }
   ],
   "source": [
    "# Normalizamos el JSON anidado para convertirlo en un DataFrame plano.\n",
    "from pandas import json_normalize\n",
    "df = json_normalize(data, sep='_')\n",
    "\n",
    "# Renombramos las columnas segun el diccionario entregado\n",
    "df.rename(columns={\n",
    "    'customer_gender': 'gender',\n",
    "    'customer_SeniorCitizen': 'SeniorCitizen',\n",
    "    'customer_Partner': 'Partner',\n",
    "    'customer_Dependents': 'Dependents',\n",
    "    'customer_tenure': 'tenure',\n",
    "    'phone_PhoneService': 'PhoneService',\n",
    "    'phone_MultipleLines': 'MultipleLines',\n",
    "    'internet_InternetService': 'InternetService',\n",
    "    'internet_OnlineSecurity': 'OnlineSecurity',\n",
    "    'internet_OnlineBackup': 'OnlineBackup',\n",
    "    'internet_DeviceProtection': 'DeviceProtection',\n",
    "    'internet_TechSupport': 'TechSupport',\n",
    "    'internet_StreamingTV': 'StreamingTV',\n",
    "    'internet_StreamingMovies': 'StreamingMovies',\n",
    "    'account_Contract': 'Contract',\n",
    "    'account_PaperlessBilling': 'PaperlessBilling',\n",
    "    'account_PaymentMethod': 'PaymentMethod',\n",
    "    'account_Charges_Monthly': 'Charges.Monthly',\n",
    "    'account_Charges_Total': 'Charges.Total'\n",
    "}, inplace=True)\n",
    "\n",
    "\n",
    "df['Charges.Total'] = pd.to_numeric(df['Charges.Total'], errors='coerce')\n",
    "df['tenure'] = pd.to_numeric(df['tenure'], errors='coerce')\n",
    "df['SeniorCitizen'] = df['SeniorCitizen'].map({0: 'No', 1: 'Yes'})\n",
    "print(\"Transformación inicial completada. Columnas renombradas y tipos de datos ajustados.\")\n",
    "df.head()"
   ]
  },
  {
   "cell_type": "markdown",
   "metadata": {},
   "source": [
    "# 📊 4. Carga"
   ]
  },
  {
   "cell_type": "code",
   "execution_count": 4,
   "metadata": {},
   "outputs": [
    {
     "name": "stdout",
     "output_type": "stream",
     "text": [
      "Archivos 'telecom_data_limpio.csv' y 'telecom_data_limpio.json' guardados.\n"
     ]
    }
   ],
   "source": [
    "# Guardamos el DataFrame limpio en formatos comunes para su uso futuro.\n",
    "df.to_csv('telecom_data_limpio.csv', index=False)\n",
    "df.to_json('telecom_data_limpio.json', orient='records', indent=4)\n",
    "print(\"Archivos 'telecom_data_limpio.csv' y 'telecom_data_limpio.json' guardados.\")"
   ]
  },
  {
   "cell_type": "markdown",
   "metadata": {},
   "source": [
    "# 📈 5. Análisis Exploratorio de Datos (EDA)\n",
    "\n",
    "Ahora que tenemos los datos limpios y estructurados, ¡comienza la diversión! Vamos a explorar los datos para encontrar insights."
   ]
  },
  {
   "cell_type": "markdown",
   "metadata": {},
   "source": [
    "### 5.1. Vistazo General y Limpieza Adicional"
   ]
  },
  {
   "cell_type": "code",
   "execution_count": 5,
   "metadata": {},
   "outputs": [
    {
     "name": "stdout",
     "output_type": "stream",
     "text": [
      "Información general del DataFrame:\n",
      "<class 'pandas.core.frame.DataFrame'>\n",
      "RangeIndex: 7267 entries, 0 to 7266\n",
      "Data columns (total 21 columns):\n",
      " #   Column            Non-Null Count  Dtype  \n",
      "---  ------            --------------  -----  \n",
      " 0   customerID        7267 non-null   object \n",
      " 1   Churn             7267 non-null   object \n",
      " 2   gender            7267 non-null   object \n",
      " 3   SeniorCitizen     7267 non-null   object \n",
      " 4   Partner           7267 non-null   object \n",
      " 5   Dependents        7267 non-null   object \n",
      " 6   tenure            7267 non-null   int64  \n",
      " 7   PhoneService      7267 non-null   object \n",
      " 8   MultipleLines     7267 non-null   object \n",
      " 9   InternetService   7267 non-null   object \n",
      " 10  OnlineSecurity    7267 non-null   object \n",
      " 11  OnlineBackup      7267 non-null   object \n",
      " 12  DeviceProtection  7267 non-null   object \n",
      " 13  TechSupport       7267 non-null   object \n",
      " 14  StreamingTV       7267 non-null   object \n",
      " 15  StreamingMovies   7267 non-null   object \n",
      " 16  Contract          7267 non-null   object \n",
      " 17  PaperlessBilling  7267 non-null   object \n",
      " 18  PaymentMethod     7267 non-null   object \n",
      " 19  Charges.Monthly   7267 non-null   float64\n",
      " 20  Charges.Total     7256 non-null   float64\n",
      "dtypes: float64(2), int64(1), object(18)\n",
      "memory usage: 1.2+ MB\n"
     ]
    }
   ],
   "source": [
    "# df.info() nos da un resumen de las columnas, sus tipos y si tienen valores nulos.\n",
    "print(\"Información general del DataFrame:\")\n",
    "df.info()"
   ]
  },
  {
   "cell_type": "markdown",
   "metadata": {},
   "source": [
    "Observamos que la columna `Charges.Total` tiene valores nulos. Vamos a investigar por qué."
   ]
  },
  {
   "cell_type": "code",
   "execution_count": 6,
   "metadata": {},
   "outputs": [
    {
     "name": "stdout",
     "output_type": "stream",
     "text": [
      "Se encontraron 11 filas con 'Charges.Total' nulo.\n"
     ]
    },
    {
     "data": {
      "text/html": [
       "<div>\n",
       "<style scoped>\n",
       "    .dataframe tbody tr th:only-of-type {\n",
       "        vertical-align: middle;\n",
       "    }\n",
       "\n",
       "    .dataframe tbody tr th {\n",
       "        vertical-align: top;\n",
       "    }\n",
       "\n",
       "    .dataframe thead th {\n",
       "        text-align: right;\n",
       "    }\n",
       "</style>\n",
       "<table border=\"1\" class=\"dataframe\">\n",
       "  <thead>\n",
       "    <tr style=\"text-align: right;\">\n",
       "      <th></th>\n",
       "      <th>customerID</th>\n",
       "      <th>tenure</th>\n",
       "      <th>Charges.Monthly</th>\n",
       "      <th>Charges.Total</th>\n",
       "    </tr>\n",
       "  </thead>\n",
       "  <tbody>\n",
       "    <tr>\n",
       "      <th>975</th>\n",
       "      <td>1371-DWPAZ</td>\n",
       "      <td>0</td>\n",
       "      <td>56.05</td>\n",
       "      <td>NaN</td>\n",
       "    </tr>\n",
       "    <tr>\n",
       "      <th>1775</th>\n",
       "      <td>2520-SGTTA</td>\n",
       "      <td>0</td>\n",
       "      <td>20.00</td>\n",
       "      <td>NaN</td>\n",
       "    </tr>\n",
       "    <tr>\n",
       "      <th>1955</th>\n",
       "      <td>2775-SEFEE</td>\n",
       "      <td>0</td>\n",
       "      <td>61.90</td>\n",
       "      <td>NaN</td>\n",
       "    </tr>\n",
       "    <tr>\n",
       "      <th>2075</th>\n",
       "      <td>2923-ARZLG</td>\n",
       "      <td>0</td>\n",
       "      <td>19.70</td>\n",
       "      <td>NaN</td>\n",
       "    </tr>\n",
       "    <tr>\n",
       "      <th>2232</th>\n",
       "      <td>3115-CZMZD</td>\n",
       "      <td>0</td>\n",
       "      <td>20.25</td>\n",
       "      <td>NaN</td>\n",
       "    </tr>\n",
       "    <tr>\n",
       "      <th>2308</th>\n",
       "      <td>3213-VVOLG</td>\n",
       "      <td>0</td>\n",
       "      <td>25.35</td>\n",
       "      <td>NaN</td>\n",
       "    </tr>\n",
       "    <tr>\n",
       "      <th>2930</th>\n",
       "      <td>4075-WKNIU</td>\n",
       "      <td>0</td>\n",
       "      <td>73.35</td>\n",
       "      <td>NaN</td>\n",
       "    </tr>\n",
       "    <tr>\n",
       "      <th>3134</th>\n",
       "      <td>4367-NUYAO</td>\n",
       "      <td>0</td>\n",
       "      <td>25.75</td>\n",
       "      <td>NaN</td>\n",
       "    </tr>\n",
       "    <tr>\n",
       "      <th>3203</th>\n",
       "      <td>4472-LVYGI</td>\n",
       "      <td>0</td>\n",
       "      <td>52.55</td>\n",
       "      <td>NaN</td>\n",
       "    </tr>\n",
       "    <tr>\n",
       "      <th>4169</th>\n",
       "      <td>5709-LVOEQ</td>\n",
       "      <td>0</td>\n",
       "      <td>80.85</td>\n",
       "      <td>NaN</td>\n",
       "    </tr>\n",
       "    <tr>\n",
       "      <th>5599</th>\n",
       "      <td>7644-OMVMY</td>\n",
       "      <td>0</td>\n",
       "      <td>19.85</td>\n",
       "      <td>NaN</td>\n",
       "    </tr>\n",
       "  </tbody>\n",
       "</table>\n",
       "</div>"
      ],
      "text/plain": [
       "      customerID  tenure  Charges.Monthly  Charges.Total\n",
       "975   1371-DWPAZ       0            56.05            NaN\n",
       "1775  2520-SGTTA       0            20.00            NaN\n",
       "1955  2775-SEFEE       0            61.90            NaN\n",
       "2075  2923-ARZLG       0            19.70            NaN\n",
       "2232  3115-CZMZD       0            20.25            NaN\n",
       "2308  3213-VVOLG       0            25.35            NaN\n",
       "2930  4075-WKNIU       0            73.35            NaN\n",
       "3134  4367-NUYAO       0            25.75            NaN\n",
       "3203  4472-LVYGI       0            52.55            NaN\n",
       "4169  5709-LVOEQ       0            80.85            NaN\n",
       "5599  7644-OMVMY       0            19.85            NaN"
      ]
     },
     "execution_count": 6,
     "metadata": {},
     "output_type": "execute_result"
    }
   ],
   "source": [
    "# Filtramos el DataFrame para ver las filas donde 'Charges.Total' es nulo.\n",
    "nulos = df[df['Charges.Total'].isnull()]\n",
    "print(f\"Se encontraron {len(nulos)} filas con 'Charges.Total' nulo.\")\n",
    "nulos[['customerID', 'tenure', 'Charges.Monthly', 'Charges.Total']]"
   ]
  },
  {
   "cell_type": "markdown",
   "metadata": {},
   "source": [
    "**Insight:** Los clientes con `Charges.Total` nulo son aquellos que tienen una antigüedad (`tenure`) de 0 meses. Son clientes nuevos que aún no han completado su primer mes, por lo que su cargo total es cero. La forma correcta de manejar esto es rellenar los valores nulos con 0."
   ]
  },
  {
   "cell_type": "code",
   "execution_count": 7,
   "metadata": {},
   "outputs": [
    {
     "name": "stdout",
     "output_type": "stream",
     "text": [
      "Suma de valores nulos después de la limpieza:\n"
     ]
    },
    {
     "name": "stderr",
     "output_type": "stream",
     "text": [
      "C:\\Users\\Dante\\AppData\\Local\\Temp\\ipykernel_21200\\727601514.py:2: FutureWarning: A value is trying to be set on a copy of a DataFrame or Series through chained assignment using an inplace method.\n",
      "The behavior will change in pandas 3.0. This inplace method will never work because the intermediate object on which we are setting values always behaves as a copy.\n",
      "\n",
      "For example, when doing 'df[col].method(value, inplace=True)', try using 'df.method({col: value}, inplace=True)' or df[col] = df[col].method(value) instead, to perform the operation inplace on the original object.\n",
      "\n",
      "\n",
      "  df['Charges.Total'].fillna(0, inplace=True)\n"
     ]
    },
    {
     "data": {
      "text/plain": [
       "customerID          0\n",
       "Churn               0\n",
       "gender              0\n",
       "SeniorCitizen       0\n",
       "Partner             0\n",
       "Dependents          0\n",
       "tenure              0\n",
       "PhoneService        0\n",
       "MultipleLines       0\n",
       "InternetService     0\n",
       "OnlineSecurity      0\n",
       "OnlineBackup        0\n",
       "DeviceProtection    0\n",
       "TechSupport         0\n",
       "StreamingTV         0\n",
       "StreamingMovies     0\n",
       "Contract            0\n",
       "PaperlessBilling    0\n",
       "PaymentMethod       0\n",
       "Charges.Monthly     0\n",
       "Charges.Total       0\n",
       "dtype: int64"
      ]
     },
     "execution_count": 7,
     "metadata": {},
     "output_type": "execute_result"
    }
   ],
   "source": [
    "# Rellenamos los valores nulos en 'Charges.Total' con 0\n",
    "df['Charges.Total'].fillna(0, inplace=True)\n",
    "\n",
    "# Verificamos que ya no hay valores nulos\n",
    "print(\"Suma de valores nulos después de la limpieza:\")\n",
    "df.isnull().sum()"
   ]
  },
  {
   "cell_type": "markdown",
   "metadata": {},
   "source": [
    "También vemos que la columna `Churn` tiene valores que no son 'Yes' o 'No'. Vamos a corregirlo."
   ]
  },
  {
   "cell_type": "code",
   "execution_count": 8,
   "metadata": {},
   "outputs": [
    {
     "name": "stdout",
     "output_type": "stream",
     "text": [
      "Valores únicos en la columna 'Churn' antes de la limpieza:\n",
      "['No' 'Yes' '']\n",
      "\n",
      "Valores únicos en la columna 'Churn' después de la limpieza:\n",
      "['No' 'Yes']\n"
     ]
    }
   ],
   "source": [
    "print(\"Valores únicos en la columna 'Churn' antes de la limpieza:\")\n",
    "print(df['Churn'].unique())\n",
    "\n",
    "# Mantenemos solo las filas donde Churn es 'Yes' o 'No'. Los valores en blanco no nos sirven.\n",
    "df = df[df['Churn'].isin(['Yes', 'No'])]\n",
    "\n",
    "print(\"\\nValores únicos en la columna 'Churn' después de la limpieza:\")\n",
    "print(df['Churn'].unique())"
   ]
  },
  {
   "cell_type": "markdown",
   "metadata": {},
   "source": [
    "### 5.2. Análisis Univariado\n",
    "\n",
    "Analizamos cada variable de forma individual para entender su distribución."
   ]
  },
  {
   "cell_type": "code",
   "execution_count": 9,
   "metadata": {},
   "outputs": [
    {
     "name": "stderr",
     "output_type": "stream",
     "text": [
      "C:\\Users\\Dante\\AppData\\Local\\Temp\\ipykernel_21200\\2232380757.py:3: FutureWarning: \n",
      "\n",
      "Passing `palette` without assigning `hue` is deprecated and will be removed in v0.14.0. Assign the `x` variable to `hue` and set `legend=False` for the same effect.\n",
      "\n",
      "  ax = sns.countplot(x='Churn', data=df, palette='pastel')\n"
     ]
    },
    {
     "data": {
      "image/png": "[encoded data removed]",
      "text/plain": [
       "<Figure size 1000x600 with 1 Axes>"
      ]
     },
     "metadata": {},
     "output_type": "display_data"
    }
   ],
   "source": [
    "# ¿Cuál es la proporción de clientes que cancelan (Churn)?\n",
    "plt.title('Distribución de Churn de Clientes')\n",
    "ax = sns.countplot(x='Churn', data=df, palette='pastel')\n",
    "\n",
    "# Añadir porcentajes en las barras\n",
    "total = len(df['Churn'])\n",
    "for p in ax.patches:\n",
    "    percentage = f'{100 * p.get_height() / total:.1f}%'\n",
    "    x = p.get_x() + p.get_width() / 2\n",
    "    y = p.get_height()\n",
    "    ax.annotate(percentage, (x, y), ha='center', va='bottom')\n",
    "\n",
    "plt.show()"
   ]
  },
  {
   "cell_type": "markdown",
   "metadata": {},
   "source": [
    "**Insight:** Aproximadamente el 26.5% de los clientes en este dataset han cancelado su servicio. Esta es nuestra variable objetivo."
   ]
  },
  {
   "cell_type": "code",
   "execution_count": null,
   "metadata": {},
   "outputs": [],
   "source": [
    "# ¿Cómo se distribuye la antigüedad (tenure) de los clientes?\n",
    "plt.title('Distribución de la Antigüedad (Tenure) de los Clientes')\n",
    "sns.histplot(df['tenure'], bins=30, kde=True, color='skyblue')\n",
    "plt.xlabel('Antigüedad (meses)')\n",
    "plt.ylabel('Número de Clientes')\n",
    "plt.show()"
   ]
  },
  {
   "cell_type": "markdown",
   "metadata": {},
   "source": [
    "**Insight:** Hay dos grandes grupos de clientes: un grupo grande de clientes muy nuevos (1-2 meses) y otro grupo de clientes muy leales (más de 70 meses)."
   ]
  },
  {
   "cell_type": "code",
   "execution_count": null,
   "metadata": {},
   "outputs": [],
   "source": [
    "# Veamos la distribución de algunas variables categóricas importantes\n",
    "fig, axes = plt.subplots(2, 2, figsize=(15, 12))\n",
    "fig.suptitle('Distribución de Características de los Clientes', fontsize=16)\n",
    "\n",
    "sns.countplot(ax=axes[0, 0], x='Contract', data=df, palette='viridis').set_title('Tipo de Contrato')\n",
    "sns.countplot(ax=axes[0, 1], x='InternetService', data=df, palette='plasma').set_title('Tipo de Servicio de Internet')\n",
    "sns.countplot(ax=axes[1, 0], x='PaymentMethod', data=df, palette='magma').set_title('Método de Pago')\n",
    "sns.countplot(ax=axes[1, 1], x='SeniorCitizen', data=df, palette='cividis').set_title('Cliente Mayor (Senior Citizen)')\n",
    "\n",
    "# Rotar etiquetas para que no se solapen\n",
    "axes[1, 0].tick_params(axis='x', rotation=30)\n",
    "\n",
    "plt.tight_layout(rect=[0, 0, 1, 0.96])\n",
    "plt.show()"
   ]
  },
  {
   "cell_type": "markdown",
   "metadata": {},
   "source": [
    "### 5.3. Análisis Bivariado\n",
    "\n",
    "Ahora, cruzamos variables para ver cómo se relacionan con el `Churn`."
   ]
  },
  {
   "cell_type": "code",
   "execution_count": null,
   "metadata": {},
   "outputs": [],
   "source": [
    "# ¿Cómo afecta el tipo de contrato al Churn?\n",
    "plt.title('Tasa de Churn por Tipo de Contrato')\n",
    "sns.countplot(x='Contract', hue='Churn', data=df, palette='inferno')\n",
    "plt.show()\n",
    "\n",
    "# Veamoslo en porcentajes para que sea más claro\n",
    "pd.crosstab(df['Contract'], df['Churn'], normalize='index').plot(kind='bar', stacked=True, color=['#3a5e8c', '#ff6f61'])\n",
    "plt.title('Porcentaje de Churn por Tipo de Contrato')\n",
    "plt.ylabel('Proporción de Clientes')\n",
    "plt.xticks(rotation=0)\n",
    "plt.show()"
   ]
  },
  {
   "cell_type": "markdown",
   "metadata": {},
   "source": [
    "**Insight Clave:** Los clientes con contrato `Month-to-month` (mes a mes) tienen una tasa de cancelación muchísimo más alta que los clientes con contratos anuales. ¡Este es un factor predictivo muy fuerte!"
   ]
  },
  {
   "cell_type": "code",
   "execution_count": null,
   "metadata": {},
   "outputs": [],
   "source": [
    "# ¿Cómo afecta la antigüedad (tenure) al Churn?\n",
    "plt.title('Distribución de Antigüedad por Estado de Churn')\n",
    "sns.boxplot(x='Churn', y='tenure', data=df, palette='coolwarm')\n",
    "plt.show()"
   ]
  },
  {
   "cell_type": "markdown",
   "metadata": {},
   "source": [
    "**Insight Clave:** Los clientes que cancelan (`Yes`) tienen una antigüedad mediana mucho menor que los que no cancelan. Esto confirma que los clientes más nuevos son los más propensos a irse."
   ]
  },
  {
   "cell_type": "code",
   "execution_count": null,
   "metadata": {},
   "outputs": [],
   "source": [
    "# ¿Y los cargos mensuales?\n",
    "plt.title('Distribución de Cargos Mensuales por Estado de Churn')\n",
    "sns.boxplot(x='Churn', y='Charges.Monthly', data=df, palette='spring')\n",
    "plt.show()"
   ]
  },
  {
   "cell_type": "markdown",
   "metadata": {},
   "source": [
    "**Insight Clave:** Los clientes que cancelan tienden a tener cargos mensuales más altos. Esto podría indicar que los precios altos son un motivo de cancelación."
   ]
  },
  {
   "cell_type": "code",
   "execution_count": null,
   "metadata": {},
   "outputs": [],
   "source": [
    "# ¿El tipo de servicio de internet influye?\n",
    "pd.crosstab(df['InternetService'], df['Churn'], normalize='index').plot(kind='bar', stacked=True, color=['#4caf50', '#f44336'])\n",
    "plt.title('Porcentaje de Churn por Servicio de Internet')\n",
    "plt.ylabel('Proporción de Clientes')\n",
    "plt.xticks(rotation=0)\n",
    "plt.show()"
   ]
  },
  {
   "cell_type": "markdown",
   "metadata": {},
   "source": [
    "**Insight Clave:** Los clientes con **Fibra Óptica** tienen una tasa de churn mucho más alta que los de DSL o los que no tienen internet. Esto podría deberse a problemas de estabilidad del servicio, un precio más alto, o expectativas no cumplidas."
   ]
  },
  {
   "cell_type": "markdown",
   "metadata": {},
   "source": [
    "### 5.4. Análisis Multivariado\n",
    "\n",
    "Exploramos la relación entre las variables numéricas."
   ]
  },
  {
   "cell_type": "code",
   "execution_count": null,
   "metadata": {},
   "outputs": [],
   "source": [
    "# Creemos un mapa de calor para ver la correlación entre las variables numéricas.\n",
    "numeric_cols = df.select_dtypes(include=['float64', 'int64'])\n",
    "corr = numeric_cols.corr()\n",
    "\n",
    "plt.title('Mapa de Calor de Correlación de Variables Numéricas')\n",
    "sns.heatmap(corr, annot=True, cmap='coolwarm', fmt='.2f')\n",
    "plt.show()"
   ]
  },
  {
   "cell_type": "markdown",
   "metadata": {},
   "source": [
    "**Insights:**\n",
    "- `tenure` y `Charges.Total` están fuertemente correlacionados (0.83), lo cual es lógico: a más tiempo como cliente, más has gastado en total.\n",
    "- `Charges.Monthly` y `Charges.Total` también tienen una correlación positiva fuerte (0.65).\n",
    "- No hay otras correlaciones extremadamente altas que sugieran problemas de multicolinealidad si quisiéramos construir un modelo de machine learning."
   ]
  },
  {
   "cell_type": "markdown",
   "metadata": {},
   "source": [
    "# 📄 6. Informe Final y Conclusiones\n",
    "\n",
    "Tras realizar el análisis exploratorio de los datos de TelecomX, hemos identificado varios factores clave que se asocian con una mayor probabilidad de que un cliente cancele su servicio (`Churn`). Estos hallazgos son cruciales para que la empresa pueda diseñar estrategias de retención efectivas.\n",
    "\n",
    "### Perfil del Cliente Propenso a Cancelar:\n",
    "\n",
    "1.  **Tipo de Contrato:** El factor más determinante es el contrato **mes a mes**. Los clientes sin un compromiso a largo plazo son significativamente más propensos a irse. \n",
    "    - **Recomendación:** Incentivar la migración a contratos de 1 o 2 años mediante descuentos o beneficios adicionales.\n",
    "\n",
    "2.  **Antigüedad (Tenure):** Los **clientes nuevos** (con pocos meses de antigüedad) tienen un riesgo de churn mucho mayor. El primer par de meses es un período crítico para la retención.\n",
    "    - **Recomendación:** Implementar un programa de *onboarding* para nuevos clientes, asegurando que su experiencia inicial sea excelente y que entiendan el valor de los servicios contratados.\n",
    "\n",
    "3.  **Servicio de Internet:** Los clientes con **Fibra Óptica** muestran una tasa de cancelación alarmantemente alta en comparación con los de DSL. \n",
    "    - **Recomendación:** Investigar la causa raíz. ¿Es el precio? ¿La estabilidad del servicio? ¿El soporte técnico para este servicio es deficiente? Una encuesta de satisfacción enfocada en estos clientes podría revelar el problema.\n",
    "\n",
    "4.  **Cargos Mensuales:** Clientes con **facturas mensuales más altas** tienden a cancelar más. \n",
    "    - **Recomendación:** Revisar la estructura de precios, especialmente para paquetes de alto valor. Ofrecer paquetes personalizados o descuentos por lealtad podría mitigar este efecto.\n",
    "\n",
    "5.  **Servicios Adicionales:** Aunque no se exploró en profundidad con gráficos, un análisis más detallado (usando `crosstab`) mostraría que los clientes sin servicios de valor añadido como `OnlineSecurity`, `OnlineBackup` y `TechSupport` son más propensos a cancelar. Estos servicios generan \"enganche\" (stickiness).\n",
    "    - **Recomendación:** Promocionar activamente estos servicios adicionales, quizás ofreciendo el primer mes gratis, para aumentar la dependencia del cliente en el ecosistema de la empresa."
   ]
  }
 ],
 "metadata": {
  "kernelspec": {
   "display_name": "Python 3",
   "language": "python",
   "name": "python3"
  },
  "language_info": {
   "codemirror_mode": {
    "name": "ipython",
    "version": 3
   },
   "file_extension": ".py",
   "mimetype": "text/x-python",
   "name": "python",
   "nbconvert_exporter": "python",
   "pygments_lexer": "ipython3",
   "version": "3.13.2"
  }
 },
 "nbformat": 4,
 "nbformat_minor": 5
}
